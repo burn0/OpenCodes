{
 "cells": [
  {
   "cell_type": "code",
   "execution_count": null,
   "metadata": {},
   "outputs": [],
   "source": [
    "import tensorflow as tf\n",
    "from tensorflow.examples.tutorials.mnist import input_data"
   ]
  },
  {
   "cell_type": "markdown",
   "metadata": {},
   "source": [
    "## Download dataset"
   ]
  },
  {
   "cell_type": "code",
   "execution_count": null,
   "metadata": {},
   "outputs": [],
   "source": [
    "# Get mnist data\n",
    "mnist = input_data.read_data_sets(\"MNIST_data/\",one_hot=True)"
   ]
  },
  {
   "cell_type": "markdown",
   "metadata": {},
   "source": [
    "## Helper functions\n"
   ]
  },
  {
   "cell_type": "code",
   "execution_count": null,
   "metadata": {},
   "outputs": [],
   "source": [
    "# Init weights\n",
    "def init_weights(shape):\n",
    "    init_random_dist = tf.truncated_normal(shape,stddev=0.1)\n",
    "    return tf.Variable(init_random_dist)"
   ]
  },
  {
   "cell_type": "code",
   "execution_count": null,
   "metadata": {},
   "outputs": [],
   "source": [
    "# Init bias\n",
    "def init_bias(shape):\n",
    "    init_bias_vals = tf.constant(0.1,shape=shape)\n",
    "    return tf.Variable(init_bias_vals)"
   ]
  },
  {
   "cell_type": "code",
   "execution_count": null,
   "metadata": {},
   "outputs": [],
   "source": [
    "# 2D Convolution\n",
    "def conv2d(x,w):\n",
    "    # x -> [batch,H,W,Channels]\n",
    "    # w -> [filters H, filters W, Channels In, Channels Out]\n",
    "    \n",
    "    return tf.nn.conv2d(x,w,strides=[1,1,1,1],padding='SAME')"
   ]
  },
  {
   "cell_type": "code",
   "execution_count": null,
   "metadata": {},
   "outputs": [],
   "source": [
    "# Pooling layer\n",
    "def max_pool_2by2(x):\n",
    "    # x -> [batch,H,W,Channels]\n",
    "    \n",
    "    return tf.nn.max_pool(x,ksize=[1,2,2,1],strides=[1,2,2,1],padding=\"SAME\")"
   ]
  },
  {
   "cell_type": "code",
   "execution_count": null,
   "metadata": {},
   "outputs": [],
   "source": [
    "# Convolutional layer\n",
    "def conv_layer(input_x,shape):\n",
    "    \n",
    "    w = init_weights(shape)   # Previus function to init weights \n",
    "    b = init_bias([shape[3]]) # Previus function to init bias\n",
    "    \n",
    "    return tf.nn.relu(conv2d(input_x,w)+b)"
   ]
  },
  {
   "cell_type": "code",
   "execution_count": null,
   "metadata": {},
   "outputs": [],
   "source": [
    "# Fully connected layer\n",
    "def fully_connected(input_layer,size):\n",
    "    \n",
    "    input_size = int(input_layer.get_shape()[1])\n",
    "    \n",
    "    w = init_weights([input_size,size]) # Previus function to init weights \n",
    "    b = init_bias([size])               # Previus function to init bias\n",
    "    \n",
    "    return tf.matmul(input_layer,w) + b"
   ]
  },
  {
   "cell_type": "markdown",
   "metadata": {},
   "source": [
    "## Bulding the CNN"
   ]
  },
  {
   "cell_type": "code",
   "execution_count": null,
   "metadata": {},
   "outputs": [],
   "source": [
    "# Placeholder\n",
    "x = tf.placeholder(tf.float32,shape=[None,784])\n",
    "y_true = tf.placeholder(tf.float32,shape=[None,10])\n",
    "\n",
    "# Layers\n",
    "x_image = tf.reshape(x,[-1,28,28,1]) # x -> [batch,H,W,Channels]\n",
    "\n",
    "conv1 = conv_layer(x_image,shape=[5,5,1,32]) # w -> [filters H, filters W, Channels In, Channels Out]\n",
    "\n",
    "pool1 = max_pool_2by2(conv1)\n",
    "\n",
    "conv2 = conv_layer(pool1,shape=[5,5,32,64])\n",
    "\n",
    "pool2 = max_pool_2by2(conv2)\n",
    "\n",
    "conv2_flat = tf.reshape(pool2,[-1,7*7*64])\n",
    "\n",
    "fully1 = tf.nn.relu(fully_connected(conv2_flat,1024))\n",
    "\n",
    "\n",
    "hold_prob = tf.placeholder(tf.float32)\n",
    "\n",
    "full_dropout = tf.nn.dropout(fully1,keep_prob=hold_prob)\n",
    "\n",
    "y_pred = fully_connected(full_dropout,10)\n",
    "\n",
    "# Loss function\n",
    "cross_entropy = tf.reduce_mean(tf.nn.softmax_cross_entropy_with_logits(labels=y_true,logits=y_pred))\n",
    "\n",
    "# Optimizer\n",
    "optimizer = tf.train.AdamOptimizer(learning_rate=0.001)\n",
    "train = optimizer.minimize(cross_entropy)\n",
    "\n",
    "# Create tf session\n",
    "init = tf.global_variables_initializer()\n",
    "\n",
    "steps = 5000\n",
    "\n",
    "with tf.Session() as sess:\n",
    "    \n",
    "    sess.run(init)\n",
    "    \n",
    "    for i in range(steps):\n",
    "        \n",
    "        batch_x, batch_y = mnist.train.next_batch(50)\n",
    "        \n",
    "        sess.run(train,feed_dict={x:batch_x,y_true:batch_y, hold_prob:0.5})\n",
    "        \n",
    "        if i%100 == 0:\n",
    "            \n",
    "            print(\"On step {}\".format(i))\n",
    "            print(\"Accuracy: \")\n",
    "            \n",
    "            matches  = tf.equal(tf.arg_max(y_pred,1), tf.arg_max(y_true,1))\n",
    "            \n",
    "            acc = tf.reduce_mean(tf.cast(matches,tf.float32))\n",
    "            \n",
    "            print(sess.run(acc,feed_dict={x:mnist.test.images,y_true:mnist.test.labels,hold_prob:1.0}))\n",
    "            \n",
    "            print('\\n')\n",
    "                  \n",
    "            "
   ]
  },
  {
   "cell_type": "code",
   "execution_count": null,
   "metadata": {},
   "outputs": [],
   "source": []
  }
 ],
 "metadata": {
  "kernelspec": {
   "display_name": "Python 3",
   "language": "python",
   "name": "python3"
  },
  "language_info": {
   "codemirror_mode": {
    "name": "ipython",
    "version": 3
   },
   "file_extension": ".py",
   "mimetype": "text/x-python",
   "name": "python",
   "nbconvert_exporter": "python",
   "pygments_lexer": "ipython3",
   "version": "3.7.5"
  }
 },
 "nbformat": 4,
 "nbformat_minor": 2
}
