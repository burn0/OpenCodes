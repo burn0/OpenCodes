{
 "cells": [
  {
   "cell_type": "code",
   "execution_count": 22,
   "metadata": {},
   "outputs": [],
   "source": [
    "import tensorflow as tf\n",
    "import numpy as np\n",
    "import matplotlib.pyplot as plt\n",
    "from sklearn.model_selection import train_test_split"
   ]
  },
  {
   "cell_type": "code",
   "execution_count": 23,
   "metadata": {},
   "outputs": [],
   "source": [
    "x_data = np.linspace(0.0,10.0,1000000)\n",
    "y_true = (0.5 * x_data) + 5 + np.random.randn(len(x_data))"
   ]
  },
  {
   "cell_type": "code",
   "execution_count": 24,
   "metadata": {},
   "outputs": [],
   "source": [
    "feat_cols = [tf.feature_column.numeric_column('x',shape=[1])]"
   ]
  },
  {
   "cell_type": "code",
   "execution_count": 25,
   "metadata": {},
   "outputs": [
    {
     "name": "stdout",
     "output_type": "stream",
     "text": [
      "INFO:tensorflow:Using default config.\n",
      "WARNING:tensorflow:Using temporary folder as model directory: /tmp/tmpu4pgnjhp\n",
      "INFO:tensorflow:Using config: {'_model_dir': '/tmp/tmpu4pgnjhp', '_tf_random_seed': None, '_save_summary_steps': 100, '_save_checkpoints_steps': None, '_save_checkpoints_secs': 600, '_session_config': allow_soft_placement: true\n",
      "graph_options {\n",
      "  rewrite_options {\n",
      "    meta_optimizer_iterations: ONE\n",
      "  }\n",
      "}\n",
      ", '_keep_checkpoint_max': 5, '_keep_checkpoint_every_n_hours': 10000, '_log_step_count_steps': 100, '_train_distribute': None, '_device_fn': None, '_protocol': None, '_eval_distribute': None, '_experimental_distribute': None, '_service': None, '_cluster_spec': <tensorflow.python.training.server_lib.ClusterSpec object at 0x7ff369c29490>, '_task_type': 'worker', '_task_id': 0, '_global_id_in_cluster': 0, '_master': '', '_evaluation_master': '', '_is_chief': True, '_num_ps_replicas': 0, '_num_worker_replicas': 1}\n"
     ]
    }
   ],
   "source": [
    "estimator = tf.estimator.LinearRegressor(feature_columns=feat_cols)"
   ]
  },
  {
   "cell_type": "code",
   "execution_count": 26,
   "metadata": {},
   "outputs": [],
   "source": [
    "x_train, x_eval, y_train, y_eval = train_test_split(x_data,y_true, test_size=0.3,random_state=101)"
   ]
  },
  {
   "cell_type": "code",
   "execution_count": 27,
   "metadata": {},
   "outputs": [],
   "source": [
    "input_func = tf.estimator.inputs.numpy_input_fn({'x':x_train},y_train,batch_size=8,num_epochs=None, shuffle=True)"
   ]
  },
  {
   "cell_type": "code",
   "execution_count": 36,
   "metadata": {},
   "outputs": [],
   "source": [
    "train_input_func = tf.estimator.inputs.numpy_input_fn({'x':x_train},y_train,batch_size=8,num_epochs=1000, shuffle=False)"
   ]
  },
  {
   "cell_type": "code",
   "execution_count": 37,
   "metadata": {},
   "outputs": [],
   "source": [
    "eval_input_func = tf.estimator.inputs.numpy_input_fn({'x':x_eval},y_eval,batch_size=8,num_epochs=1000, shuffle=False)"
   ]
  },
  {
   "cell_type": "code",
   "execution_count": 29,
   "metadata": {},
   "outputs": [
    {
     "name": "stdout",
     "output_type": "stream",
     "text": [
      "INFO:tensorflow:Calling model_fn.\n",
      "INFO:tensorflow:Done calling model_fn.\n",
      "INFO:tensorflow:Create CheckpointSaverHook.\n",
      "INFO:tensorflow:Graph was finalized.\n",
      "INFO:tensorflow:Running local_init_op.\n",
      "INFO:tensorflow:Done running local_init_op.\n",
      "INFO:tensorflow:Saving checkpoints for 0 into /tmp/tmpu4pgnjhp/model.ckpt.\n",
      "INFO:tensorflow:loss = 663.4515, step = 1\n",
      "INFO:tensorflow:global_step/sec: 1965.99\n",
      "INFO:tensorflow:loss = 42.51833, step = 101 (0.052 sec)\n",
      "INFO:tensorflow:global_step/sec: 2674.21\n",
      "INFO:tensorflow:loss = 34.252956, step = 201 (0.037 sec)\n",
      "INFO:tensorflow:global_step/sec: 2582.05\n",
      "INFO:tensorflow:loss = 14.376862, step = 301 (0.039 sec)\n",
      "INFO:tensorflow:global_step/sec: 2627.88\n",
      "INFO:tensorflow:loss = 7.931085, step = 401 (0.038 sec)\n",
      "INFO:tensorflow:global_step/sec: 2500.37\n",
      "INFO:tensorflow:loss = 2.215844, step = 501 (0.040 sec)\n",
      "INFO:tensorflow:global_step/sec: 2524.04\n",
      "INFO:tensorflow:loss = 4.642469, step = 601 (0.040 sec)\n",
      "INFO:tensorflow:global_step/sec: 2559.3\n",
      "INFO:tensorflow:loss = 10.61491, step = 701 (0.039 sec)\n",
      "INFO:tensorflow:global_step/sec: 2469.72\n",
      "INFO:tensorflow:loss = 5.21539, step = 801 (0.040 sec)\n",
      "INFO:tensorflow:global_step/sec: 2489.17\n",
      "INFO:tensorflow:loss = 15.037604, step = 901 (0.040 sec)\n",
      "INFO:tensorflow:global_step/sec: 2740.86\n",
      "INFO:tensorflow:loss = 2.765301, step = 1001 (0.037 sec)\n",
      "INFO:tensorflow:global_step/sec: 2725.61\n",
      "INFO:tensorflow:loss = 5.1878443, step = 1101 (0.037 sec)\n",
      "INFO:tensorflow:global_step/sec: 2677.02\n",
      "INFO:tensorflow:loss = 7.0411477, step = 1201 (0.037 sec)\n",
      "INFO:tensorflow:global_step/sec: 2684.39\n",
      "INFO:tensorflow:loss = 5.444137, step = 1301 (0.037 sec)\n",
      "INFO:tensorflow:global_step/sec: 2730.68\n",
      "INFO:tensorflow:loss = 8.389846, step = 1401 (0.037 sec)\n",
      "INFO:tensorflow:global_step/sec: 2760.25\n",
      "INFO:tensorflow:loss = 1.152347, step = 1501 (0.036 sec)\n",
      "INFO:tensorflow:global_step/sec: 2449.31\n",
      "INFO:tensorflow:loss = 2.3012066, step = 1601 (0.041 sec)\n",
      "INFO:tensorflow:global_step/sec: 2687.11\n",
      "INFO:tensorflow:loss = 9.390102, step = 1701 (0.037 sec)\n",
      "INFO:tensorflow:global_step/sec: 2542.65\n",
      "INFO:tensorflow:loss = 3.461779, step = 1801 (0.039 sec)\n",
      "INFO:tensorflow:global_step/sec: 2617.19\n",
      "INFO:tensorflow:loss = 3.891026, step = 1901 (0.038 sec)\n",
      "INFO:tensorflow:global_step/sec: 2588.12\n",
      "INFO:tensorflow:loss = 3.143637, step = 2001 (0.039 sec)\n",
      "INFO:tensorflow:global_step/sec: 2741.02\n",
      "INFO:tensorflow:loss = 16.008038, step = 2101 (0.037 sec)\n",
      "INFO:tensorflow:global_step/sec: 2494.71\n",
      "INFO:tensorflow:loss = 3.2931345, step = 2201 (0.042 sec)\n",
      "INFO:tensorflow:global_step/sec: 2268.06\n",
      "INFO:tensorflow:loss = 12.753478, step = 2301 (0.042 sec)\n",
      "INFO:tensorflow:global_step/sec: 2678.53\n",
      "INFO:tensorflow:loss = 10.62675, step = 2401 (0.038 sec)\n",
      "INFO:tensorflow:global_step/sec: 2457.61\n",
      "INFO:tensorflow:loss = 6.874708, step = 2501 (0.040 sec)\n",
      "INFO:tensorflow:global_step/sec: 2488.23\n",
      "INFO:tensorflow:loss = 10.745003, step = 2601 (0.040 sec)\n",
      "INFO:tensorflow:global_step/sec: 2559.78\n",
      "INFO:tensorflow:loss = 20.277363, step = 2701 (0.039 sec)\n",
      "INFO:tensorflow:global_step/sec: 2705.97\n",
      "INFO:tensorflow:loss = 3.7227712, step = 2801 (0.037 sec)\n",
      "INFO:tensorflow:global_step/sec: 2530.45\n",
      "INFO:tensorflow:loss = 9.140949, step = 2901 (0.040 sec)\n",
      "INFO:tensorflow:global_step/sec: 2383.45\n",
      "INFO:tensorflow:loss = 7.2511883, step = 3001 (0.042 sec)\n",
      "INFO:tensorflow:global_step/sec: 2559\n",
      "INFO:tensorflow:loss = 14.163134, step = 3101 (0.039 sec)\n",
      "INFO:tensorflow:global_step/sec: 2584.93\n",
      "INFO:tensorflow:loss = 16.247831, step = 3201 (0.039 sec)\n",
      "INFO:tensorflow:global_step/sec: 2451.29\n",
      "INFO:tensorflow:loss = 2.4214191, step = 3301 (0.040 sec)\n",
      "INFO:tensorflow:global_step/sec: 2654.72\n",
      "INFO:tensorflow:loss = 5.69369, step = 3401 (0.038 sec)\n",
      "INFO:tensorflow:global_step/sec: 2561.16\n",
      "INFO:tensorflow:loss = 9.644578, step = 3501 (0.039 sec)\n",
      "INFO:tensorflow:global_step/sec: 2439.95\n",
      "INFO:tensorflow:loss = 4.840086, step = 3601 (0.041 sec)\n",
      "INFO:tensorflow:global_step/sec: 2506.62\n",
      "INFO:tensorflow:loss = 6.400557, step = 3701 (0.040 sec)\n",
      "INFO:tensorflow:global_step/sec: 2482.7\n",
      "INFO:tensorflow:loss = 7.978177, step = 3801 (0.041 sec)\n",
      "INFO:tensorflow:global_step/sec: 2504.76\n",
      "INFO:tensorflow:loss = 6.714042, step = 3901 (0.039 sec)\n",
      "INFO:tensorflow:global_step/sec: 2628.64\n",
      "INFO:tensorflow:loss = 7.3303, step = 4001 (0.038 sec)\n",
      "INFO:tensorflow:global_step/sec: 2564.18\n",
      "INFO:tensorflow:loss = 8.294675, step = 4101 (0.039 sec)\n",
      "INFO:tensorflow:global_step/sec: 2611.08\n",
      "INFO:tensorflow:loss = 11.410967, step = 4201 (0.038 sec)\n",
      "INFO:tensorflow:global_step/sec: 2606\n",
      "INFO:tensorflow:loss = 7.1773906, step = 4301 (0.038 sec)\n",
      "INFO:tensorflow:global_step/sec: 2334.02\n",
      "INFO:tensorflow:loss = 8.157908, step = 4401 (0.043 sec)\n",
      "INFO:tensorflow:global_step/sec: 2431.73\n",
      "INFO:tensorflow:loss = 1.816183, step = 4501 (0.041 sec)\n",
      "INFO:tensorflow:global_step/sec: 2698.03\n",
      "INFO:tensorflow:loss = 12.1875, step = 4601 (0.037 sec)\n",
      "INFO:tensorflow:global_step/sec: 2521.45\n",
      "INFO:tensorflow:loss = 12.367901, step = 4701 (0.040 sec)\n",
      "INFO:tensorflow:global_step/sec: 2486.32\n",
      "INFO:tensorflow:loss = 4.817273, step = 4801 (0.040 sec)\n",
      "INFO:tensorflow:global_step/sec: 2282.27\n",
      "INFO:tensorflow:loss = 3.8508723, step = 4901 (0.044 sec)\n",
      "INFO:tensorflow:global_step/sec: 2750.45\n",
      "INFO:tensorflow:loss = 7.213382, step = 5001 (0.036 sec)\n",
      "INFO:tensorflow:global_step/sec: 2775.59\n",
      "INFO:tensorflow:loss = 2.9988875, step = 5101 (0.036 sec)\n",
      "INFO:tensorflow:global_step/sec: 2748.24\n",
      "INFO:tensorflow:loss = 7.0230684, step = 5201 (0.036 sec)\n",
      "INFO:tensorflow:global_step/sec: 2596.18\n",
      "INFO:tensorflow:loss = 3.066694, step = 5301 (0.039 sec)\n",
      "INFO:tensorflow:global_step/sec: 2726.5\n",
      "INFO:tensorflow:loss = 1.5973065, step = 5401 (0.037 sec)\n",
      "INFO:tensorflow:global_step/sec: 2785.43\n",
      "INFO:tensorflow:loss = 4.39933, step = 5501 (0.036 sec)\n",
      "INFO:tensorflow:global_step/sec: 2804.39\n",
      "INFO:tensorflow:loss = 7.9654555, step = 5601 (0.036 sec)\n",
      "INFO:tensorflow:global_step/sec: 2585.02\n",
      "INFO:tensorflow:loss = 9.45652, step = 5701 (0.039 sec)\n",
      "INFO:tensorflow:global_step/sec: 2706.81\n",
      "INFO:tensorflow:loss = 6.3768425, step = 5801 (0.037 sec)\n",
      "INFO:tensorflow:global_step/sec: 2711.43\n",
      "INFO:tensorflow:loss = 9.220724, step = 5901 (0.037 sec)\n",
      "INFO:tensorflow:global_step/sec: 2777.78\n",
      "INFO:tensorflow:loss = 7.0795507, step = 6001 (0.036 sec)\n",
      "INFO:tensorflow:global_step/sec: 2687.62\n",
      "INFO:tensorflow:loss = 5.3676877, step = 6101 (0.037 sec)\n",
      "INFO:tensorflow:global_step/sec: 2625.79\n",
      "INFO:tensorflow:loss = 11.986601, step = 6201 (0.038 sec)\n",
      "INFO:tensorflow:global_step/sec: 2670.97\n",
      "INFO:tensorflow:loss = 5.0473795, step = 6301 (0.037 sec)\n",
      "INFO:tensorflow:global_step/sec: 2621.18\n",
      "INFO:tensorflow:loss = 6.846896, step = 6401 (0.038 sec)\n",
      "INFO:tensorflow:global_step/sec: 2583.1\n",
      "INFO:tensorflow:loss = 4.7284174, step = 6501 (0.039 sec)\n",
      "INFO:tensorflow:global_step/sec: 2604.27\n",
      "INFO:tensorflow:loss = 6.203583, step = 6601 (0.039 sec)\n",
      "INFO:tensorflow:global_step/sec: 2565.42\n",
      "INFO:tensorflow:loss = 5.150201, step = 6701 (0.039 sec)\n",
      "INFO:tensorflow:global_step/sec: 2917.7\n",
      "INFO:tensorflow:loss = 6.8406124, step = 6801 (0.035 sec)\n",
      "INFO:tensorflow:global_step/sec: 2667.01\n",
      "INFO:tensorflow:loss = 8.0072155, step = 6901 (0.037 sec)\n",
      "INFO:tensorflow:global_step/sec: 2671.63\n",
      "INFO:tensorflow:loss = 6.0476904, step = 7001 (0.037 sec)\n",
      "INFO:tensorflow:global_step/sec: 2560.73\n",
      "INFO:tensorflow:loss = 13.27997, step = 7101 (0.039 sec)\n",
      "INFO:tensorflow:global_step/sec: 2777.63\n",
      "INFO:tensorflow:loss = 5.883319, step = 7201 (0.036 sec)\n",
      "INFO:tensorflow:global_step/sec: 2759.59\n",
      "INFO:tensorflow:loss = 5.8278527, step = 7301 (0.037 sec)\n",
      "INFO:tensorflow:global_step/sec: 2586.65\n",
      "INFO:tensorflow:loss = 10.112718, step = 7401 (0.038 sec)\n",
      "INFO:tensorflow:global_step/sec: 2613.63\n",
      "INFO:tensorflow:loss = 9.234156, step = 7501 (0.038 sec)\n",
      "INFO:tensorflow:global_step/sec: 2605.01\n",
      "INFO:tensorflow:loss = 12.49613, step = 7601 (0.038 sec)\n",
      "INFO:tensorflow:global_step/sec: 2602.18\n",
      "INFO:tensorflow:loss = 9.831303, step = 7701 (0.038 sec)\n",
      "INFO:tensorflow:global_step/sec: 2728.53\n",
      "INFO:tensorflow:loss = 7.5494065, step = 7801 (0.037 sec)\n",
      "INFO:tensorflow:global_step/sec: 2602.6\n",
      "INFO:tensorflow:loss = 20.470102, step = 7901 (0.038 sec)\n",
      "INFO:tensorflow:global_step/sec: 2590.84\n",
      "INFO:tensorflow:loss = 13.97081, step = 8001 (0.038 sec)\n"
     ]
    },
    {
     "name": "stdout",
     "output_type": "stream",
     "text": [
      "INFO:tensorflow:global_step/sec: 2582.48\n",
      "INFO:tensorflow:loss = 13.042815, step = 8101 (0.039 sec)\n",
      "INFO:tensorflow:global_step/sec: 2723.59\n",
      "INFO:tensorflow:loss = 8.252415, step = 8201 (0.037 sec)\n",
      "INFO:tensorflow:global_step/sec: 2807.13\n",
      "INFO:tensorflow:loss = 10.900532, step = 8301 (0.036 sec)\n",
      "INFO:tensorflow:global_step/sec: 2791.03\n",
      "INFO:tensorflow:loss = 8.465521, step = 8401 (0.036 sec)\n",
      "INFO:tensorflow:global_step/sec: 2583.03\n",
      "INFO:tensorflow:loss = 5.5391335, step = 8501 (0.038 sec)\n",
      "INFO:tensorflow:global_step/sec: 2674.84\n",
      "INFO:tensorflow:loss = 7.79115, step = 8601 (0.038 sec)\n",
      "INFO:tensorflow:global_step/sec: 2741.36\n",
      "INFO:tensorflow:loss = 7.982188, step = 8701 (0.036 sec)\n",
      "INFO:tensorflow:global_step/sec: 2779.89\n",
      "INFO:tensorflow:loss = 10.0359335, step = 8801 (0.036 sec)\n",
      "INFO:tensorflow:global_step/sec: 2738.24\n",
      "INFO:tensorflow:loss = 7.733064, step = 8901 (0.037 sec)\n",
      "INFO:tensorflow:global_step/sec: 2837.34\n",
      "INFO:tensorflow:loss = 5.1404057, step = 9001 (0.035 sec)\n",
      "INFO:tensorflow:global_step/sec: 2693.42\n",
      "INFO:tensorflow:loss = 2.502221, step = 9101 (0.037 sec)\n",
      "INFO:tensorflow:global_step/sec: 2848.39\n",
      "INFO:tensorflow:loss = 8.916792, step = 9201 (0.036 sec)\n",
      "INFO:tensorflow:global_step/sec: 2671.05\n",
      "INFO:tensorflow:loss = 2.995624, step = 9301 (0.037 sec)\n",
      "INFO:tensorflow:global_step/sec: 2740.44\n",
      "INFO:tensorflow:loss = 4.304103, step = 9401 (0.036 sec)\n",
      "INFO:tensorflow:global_step/sec: 2691.49\n",
      "INFO:tensorflow:loss = 9.41939, step = 9501 (0.037 sec)\n",
      "INFO:tensorflow:global_step/sec: 2704.8\n",
      "INFO:tensorflow:loss = 15.572217, step = 9601 (0.037 sec)\n",
      "INFO:tensorflow:global_step/sec: 2737.39\n",
      "INFO:tensorflow:loss = 2.3417156, step = 9701 (0.037 sec)\n",
      "INFO:tensorflow:global_step/sec: 2859.79\n",
      "INFO:tensorflow:loss = 12.985881, step = 9801 (0.036 sec)\n",
      "INFO:tensorflow:global_step/sec: 2714.78\n",
      "INFO:tensorflow:loss = 9.680513, step = 9901 (0.036 sec)\n",
      "INFO:tensorflow:Saving checkpoints for 10000 into /tmp/tmpu4pgnjhp/model.ckpt.\n",
      "INFO:tensorflow:Loss for final step: 4.9388113.\n"
     ]
    },
    {
     "data": {
      "text/plain": [
       "<tensorflow_estimator.python.estimator.canned.linear.LinearRegressor at 0x7ff369e04c10>"
      ]
     },
     "execution_count": 29,
     "metadata": {},
     "output_type": "execute_result"
    }
   ],
   "source": [
    "estimator.train(input_fn=input_func,steps=10000)"
   ]
  },
  {
   "cell_type": "code",
   "execution_count": 30,
   "metadata": {},
   "outputs": [
    {
     "name": "stdout",
     "output_type": "stream",
     "text": [
      "INFO:tensorflow:Calling model_fn.\n",
      "INFO:tensorflow:Done calling model_fn.\n",
      "INFO:tensorflow:Starting evaluation at 2019-11-21T16:25:40Z\n",
      "INFO:tensorflow:Graph was finalized.\n",
      "INFO:tensorflow:Restoring parameters from /tmp/tmpu4pgnjhp/model.ckpt-10000\n",
      "INFO:tensorflow:Running local_init_op.\n",
      "INFO:tensorflow:Done running local_init_op.\n",
      "INFO:tensorflow:Evaluation [1000/10000]\n",
      "INFO:tensorflow:Evaluation [2000/10000]\n",
      "INFO:tensorflow:Evaluation [3000/10000]\n",
      "INFO:tensorflow:Evaluation [4000/10000]\n",
      "INFO:tensorflow:Evaluation [5000/10000]\n",
      "INFO:tensorflow:Evaluation [6000/10000]\n",
      "INFO:tensorflow:Evaluation [7000/10000]\n",
      "INFO:tensorflow:Evaluation [8000/10000]\n",
      "INFO:tensorflow:Evaluation [9000/10000]\n",
      "INFO:tensorflow:Evaluation [10000/10000]\n",
      "INFO:tensorflow:Finished evaluation at 2019-11-21-16:25:44\n",
      "INFO:tensorflow:Saving dict for global step 10000: average_loss = 0.9997169, global_step = 10000, label/mean = 7.4924307, loss = 7.997735, prediction/mean = 7.4663897\n",
      "INFO:tensorflow:Saving 'checkpoint_path' summary for global step 10000: /tmp/tmpu4pgnjhp/model.ckpt-10000\n"
     ]
    }
   ],
   "source": [
    "train_metrics = estimator.evaluate(input_fn=train_input_func,steps=10000)"
   ]
  },
  {
   "cell_type": "code",
   "execution_count": 38,
   "metadata": {},
   "outputs": [
    {
     "name": "stdout",
     "output_type": "stream",
     "text": [
      "INFO:tensorflow:Calling model_fn.\n",
      "INFO:tensorflow:Done calling model_fn.\n",
      "INFO:tensorflow:Starting evaluation at 2019-11-21T16:28:49Z\n",
      "INFO:tensorflow:Graph was finalized.\n",
      "INFO:tensorflow:Restoring parameters from /tmp/tmpu4pgnjhp/model.ckpt-10000\n",
      "INFO:tensorflow:Running local_init_op.\n",
      "INFO:tensorflow:Done running local_init_op.\n",
      "INFO:tensorflow:Evaluation [1000/10000]\n",
      "INFO:tensorflow:Evaluation [2000/10000]\n",
      "INFO:tensorflow:Evaluation [3000/10000]\n",
      "INFO:tensorflow:Evaluation [4000/10000]\n",
      "INFO:tensorflow:Evaluation [5000/10000]\n",
      "INFO:tensorflow:Evaluation [6000/10000]\n",
      "INFO:tensorflow:Evaluation [7000/10000]\n",
      "INFO:tensorflow:Evaluation [8000/10000]\n",
      "INFO:tensorflow:Evaluation [9000/10000]\n",
      "INFO:tensorflow:Evaluation [10000/10000]\n",
      "INFO:tensorflow:Finished evaluation at 2019-11-21-16:28:52\n",
      "INFO:tensorflow:Saving dict for global step 10000: average_loss = 0.9984937, global_step = 10000, label/mean = 7.502116, loss = 7.9879494, prediction/mean = 7.469025\n",
      "INFO:tensorflow:Saving 'checkpoint_path' summary for global step 10000: /tmp/tmpu4pgnjhp/model.ckpt-10000\n"
     ]
    }
   ],
   "source": [
    "eval_metrics = estimator.evaluate(input_fn=eval_input_func,steps=10000)"
   ]
  },
  {
   "cell_type": "code",
   "execution_count": 41,
   "metadata": {},
   "outputs": [
    {
     "name": "stdout",
     "output_type": "stream",
     "text": [
      "Training data metrics\n",
      "{'average_loss': 0.9997169, 'label/mean': 7.4924307, 'loss': 7.997735, 'prediction/mean': 7.4663897, 'global_step': 10000}\n"
     ]
    }
   ],
   "source": [
    "print('Training data metrics')\n",
    "print(train_metrics)"
   ]
  },
  {
   "cell_type": "code",
   "execution_count": 42,
   "metadata": {},
   "outputs": [
    {
     "name": "stdout",
     "output_type": "stream",
     "text": [
      "Eval metrics\n",
      "{'average_loss': 0.9984937, 'label/mean': 7.502116, 'loss': 7.9879494, 'prediction/mean': 7.469025, 'global_step': 10000}\n"
     ]
    }
   ],
   "source": [
    "print(\"Eval metrics\")\n",
    "print(eval_metrics)"
   ]
  },
  {
   "cell_type": "code",
   "execution_count": 45,
   "metadata": {},
   "outputs": [],
   "source": [
    "brand_new_data = np.linspace(0,10,10)\n",
    "input_fn_predict = tf.estimator.inputs.numpy_input_fn({'x':brand_new_data},shuffle=False)"
   ]
  },
  {
   "cell_type": "code",
   "execution_count": 47,
   "metadata": {},
   "outputs": [
    {
     "name": "stdout",
     "output_type": "stream",
     "text": [
      "INFO:tensorflow:Calling model_fn.\n",
      "INFO:tensorflow:Done calling model_fn.\n",
      "INFO:tensorflow:Graph was finalized.\n",
      "INFO:tensorflow:Restoring parameters from /tmp/tmpu4pgnjhp/model.ckpt-10000\n",
      "INFO:tensorflow:Running local_init_op.\n",
      "INFO:tensorflow:Done running local_init_op.\n"
     ]
    },
    {
     "data": {
      "text/plain": [
       "[{'predictions': array([5.0016317], dtype=float32)},\n",
       " {'predictions': array([5.550472], dtype=float32)},\n",
       " {'predictions': array([6.0993123], dtype=float32)},\n",
       " {'predictions': array([6.6481524], dtype=float32)},\n",
       " {'predictions': array([7.196993], dtype=float32)},\n",
       " {'predictions': array([7.7458324], dtype=float32)},\n",
       " {'predictions': array([8.294673], dtype=float32)},\n",
       " {'predictions': array([8.8435135], dtype=float32)},\n",
       " {'predictions': array([9.392353], dtype=float32)},\n",
       " {'predictions': array([9.941194], dtype=float32)}]"
      ]
     },
     "execution_count": 47,
     "metadata": {},
     "output_type": "execute_result"
    }
   ],
   "source": [
    "list(estimator.predict(input_fn=input_fn_predict))"
   ]
  },
  {
   "cell_type": "code",
   "execution_count": 48,
   "metadata": {},
   "outputs": [
    {
     "name": "stdout",
     "output_type": "stream",
     "text": [
      "INFO:tensorflow:Calling model_fn.\n",
      "INFO:tensorflow:Done calling model_fn.\n",
      "INFO:tensorflow:Graph was finalized.\n",
      "INFO:tensorflow:Restoring parameters from /tmp/tmpu4pgnjhp/model.ckpt-10000\n",
      "INFO:tensorflow:Running local_init_op.\n",
      "INFO:tensorflow:Done running local_init_op.\n"
     ]
    }
   ],
   "source": [
    "predictions  = []\n",
    "for pred in estimator.predict(input_fn=input_fn_predict):\n",
    "    predictions.append(pred['predictions'])"
   ]
  },
  {
   "cell_type": "code",
   "execution_count": 50,
   "metadata": {},
   "outputs": [
    {
     "data": {
      "text/plain": [
       "[<matplotlib.lines.Line2D at 0x7ff3683eccd0>]"
      ]
     },
     "execution_count": 50,
     "metadata": {},
     "output_type": "execute_result"
    },
    {
     "data": {
      "image/png": "[encoded data removed]",
      "text/plain": [
       "<Figure size 432x288 with 1 Axes>"
      ]
     },
     "metadata": {
      "needs_background": "light"
     },
     "output_type": "display_data"
    }
   ],
   "source": [
    "plt.plot(brand_new_data,predictions,'r*')"
   ]
  },
  {
   "cell_type": "code",
   "execution_count": null,
   "metadata": {},
   "outputs": [],
   "source": []
  }
 ],
 "metadata": {
  "kernelspec": {
   "display_name": "Python 3",
   "language": "python",
   "name": "python3"
  },
  "language_info": {
   "codemirror_mode": {
    "name": "ipython",
    "version": 3
   },
   "file_extension": ".py",
   "mimetype": "text/x-python",
   "name": "python",
   "nbconvert_exporter": "python",
   "pygments_lexer": "ipython3",
   "version": "3.7.5rc1"
  }
 },
 "nbformat": 4,
 "nbformat_minor": 2
}
