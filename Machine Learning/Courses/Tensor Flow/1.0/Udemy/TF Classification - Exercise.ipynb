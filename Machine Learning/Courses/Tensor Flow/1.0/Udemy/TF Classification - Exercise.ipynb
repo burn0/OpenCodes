{
 "cells": [
  {
   "cell_type": "code",
   "execution_count": null,
   "metadata": {},
   "outputs": [],
   "source": [
    "import tensorflow as tf\n",
    "import pandas as pd\n",
    "import matplotlib.pyplot as plt\n",
    "from sklearn.model_selection import train_test_split\n",
    "from sklearn.metrics import classification_report"
   ]
  },
  {
   "cell_type": "code",
   "execution_count": null,
   "metadata": {},
   "outputs": [],
   "source": [
    "census = pd.read_csv('data/census_data.csv')"
   ]
  },
  {
   "cell_type": "code",
   "execution_count": null,
   "metadata": {},
   "outputs": [],
   "source": [
    "census.head()"
   ]
  },
  {
   "cell_type": "code",
   "execution_count": null,
   "metadata": {},
   "outputs": [],
   "source": [
    "## Transform categorical data into numerical\n",
    "\n",
    "cat_columns = census.select_dtypes(['object']).columns\n",
    "census[cat_columns] = census[cat_columns].astype('category')\n",
    "census[cat_columns] = census[cat_columns].apply(lambda x: x.cat.codes)"
   ]
  },
  {
   "cell_type": "code",
   "execution_count": null,
   "metadata": {},
   "outputs": [],
   "source": [
    "census.head()"
   ]
  },
  {
   "cell_type": "markdown",
   "metadata": {},
   "source": [
    "## Train and test split"
   ]
  },
  {
   "cell_type": "code",
   "execution_count": null,
   "metadata": {},
   "outputs": [],
   "source": [
    "# Train and test split\n",
    "x_data = census.drop('income_bracket',axis=1)\n",
    "labels = census['income_bracket']\n",
    "\n",
    "x_train, x_test, y_train, y_test = train_test_split(x_data,labels,test_size = 0.3)"
   ]
  },
  {
   "cell_type": "code",
   "execution_count": null,
   "metadata": {},
   "outputs": [],
   "source": [
    "# Create fetuare columns\n",
    "feat_cols = []\n",
    "for column in x_data.columns:\n",
    "    feat_cols.append(tf.feature_column.numeric_column(column))\n",
    "    #if(str(census[column].dtype) == \"int64\"):   \n",
    "    #else:\n",
    "        #feat_cols.append(tf.feature_column.categorical_column_with_hash_bucket(column,hash_bucket_size=10))"
   ]
  },
  {
   "cell_type": "code",
   "execution_count": null,
   "metadata": {},
   "outputs": [],
   "source": [
    "\n",
    "input_func = tf.estimator.inputs.pandas_input_fn(x=x_train, y=y_train,batch_size=100,num_epochs=None,shuffle=True)\n",
    "dnn_model = tf.estimator.DNNClassifier(hidden_units=[13,15,13],feature_columns=feat_cols,n_classes=2)\n",
    "dnn_model.train(input_fn=input_func,steps=10000)"
   ]
  },
  {
   "cell_type": "code",
   "execution_count": null,
   "metadata": {},
   "outputs": [],
   "source": [
    "eval_input_func = tf.estimator.inputs.pandas_input_fn(x=x_test, y=y_test,batch_size=100,num_epochs=1,shuffle=False)\n",
    "dnn_model.evaluate(eval_input_func)"
   ]
  },
  {
   "cell_type": "code",
   "execution_count": null,
   "metadata": {},
   "outputs": [],
   "source": [
    "pred_input_func = tf.estimator.inputs.pandas_input_fn(x=x_test,batch_size=len(x_test),num_epochs=1,shuffle=False)\n",
    "pred_gen = dnn_model.predict(pred_input_func)\n",
    "predictions = list(pred_gen)\n",
    "\n",
    "final_preds = []\n",
    "for pred in predictions:\n",
    "    final_preds.append(pred['class_ids'][0])"
   ]
  },
  {
   "cell_type": "code",
   "execution_count": null,
   "metadata": {},
   "outputs": [],
   "source": [
    " print(classification_report(y_test,final_preds))"
   ]
  },
  {
   "cell_type": "code",
   "execution_count": null,
   "metadata": {},
   "outputs": [],
   "source": []
  }
 ],
 "metadata": {
  "kernelspec": {
   "display_name": "Python 3",
   "language": "python",
   "name": "python3"
  },
  "language_info": {
   "codemirror_mode": {
    "name": "ipython",
    "version": 3
   },
   "file_extension": ".py",
   "mimetype": "text/x-python",
   "name": "python",
   "nbconvert_exporter": "python",
   "pygments_lexer": "ipython3",
   "version": "3.7.5"
  }
 },
 "nbformat": 4,
 "nbformat_minor": 2
}
